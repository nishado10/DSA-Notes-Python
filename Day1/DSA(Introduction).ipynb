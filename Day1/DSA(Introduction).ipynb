{
 "cells": [
  {
   "cell_type": "code",
   "execution_count": 5,
   "id": "87c878e0-766b-45a9-9e9f-3a82fedf9e76",
   "metadata": {},
   "outputs": [],
   "source": [
    "#Counting factors "
   ]
  },
  {
   "cell_type": "code",
   "execution_count": 17,
   "id": "b1690ae9-3c65-4799-8818-818572540440",
   "metadata": {},
   "outputs": [],
   "source": [
    "#Brute force approach :\n",
    "\n",
    "def countfactors(N):\n",
    "    count = 0\n",
    "    for i in range (1, N+1):\n",
    "        if N % i == 0:\n",
    "            count += 1\n",
    "    return count"
   ]
  },
  {
   "cell_type": "code",
   "execution_count": 19,
   "id": "2e9e601f-aa1c-41b0-9192-6b7564917716",
   "metadata": {},
   "outputs": [],
   "source": [
    "#Optimized Approach :\n",
    "\n",
    "def countfactors(N):\n",
    "    count = 0\n",
    "    for i in range(1, int(N**0.5)+1):      \n",
    "        if N % i == 0:\n",
    "            if i == N % i:\n",
    "                count += 1\n",
    "            else:\n",
    "                count += 2\n",
    "    return count"
   ]
  },
  {
   "cell_type": "code",
   "execution_count": 23,
   "id": "226b4351-eb29-4995-b050-99743b3f38f7",
   "metadata": {},
   "outputs": [],
   "source": [
    "# Prime Number :\n",
    "\n",
    "def isPrime(N):\n",
    "    if countfactors(N) > 2:\n",
    "        return False\n",
    "    else:\n",
    "        return True"
   ]
  }
 ],
 "metadata": {
  "kernelspec": {
   "display_name": "Python [conda env:base] *",
   "language": "python",
   "name": "conda-base-py"
  },
  "language_info": {
   "codemirror_mode": {
    "name": "ipython",
    "version": 3
   },
   "file_extension": ".py",
   "mimetype": "text/x-python",
   "name": "python",
   "nbconvert_exporter": "python",
   "pygments_lexer": "ipython3",
   "version": "3.12.7"
  }
 },
 "nbformat": 4,
 "nbformat_minor": 5
}
