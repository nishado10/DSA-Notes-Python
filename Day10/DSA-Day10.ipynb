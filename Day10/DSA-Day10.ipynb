{
 "cells": [
  {
   "cell_type": "code",
   "execution_count": 1,
   "id": "942014f1-131d-42e3-b2b2-cfa87ed3706b",
   "metadata": {},
   "outputs": [],
   "source": [
    "# Given an arr[N] elememts & Q queries for each query find the freq of each element\n",
    "\n",
    "def freq_map(queries,arr):\n",
    "    freq_map = {}\n",
    "    for element in arr:\n",
    "        if element in freq_map:\n",
    "            freq_map[element] += 1\n",
    "        else:\n",
    "            freq_map[element] = 1\n",
    "\n",
    "    result= []\n",
    "    for q in queries:\n",
    "        if q in freq_map:\n",
    "            result.append(freq_map[q])\n",
    "        else:\n",
    "            result.append(0)\n",
    "\n",
    "    return result"
   ]
  },
  {
   "cell_type": "code",
   "execution_count": 3,
   "id": "2fde52a8-2591-4948-a1c2-eabac1984111",
   "metadata": {},
   "outputs": [
    {
     "name": "stdout",
     "output_type": "stream",
     "text": [
      "[2, 2, 0]\n"
     ]
    }
   ],
   "source": [
    "arr = [1, 2, 2, 3, 1, 4]\n",
    "queries = [1, 2, 5]\n",
    "\n",
    "print(freq_map(queries, arr))"
   ]
  },
  {
   "cell_type": "code",
   "execution_count": 5,
   "id": "167e6589-f183-4988-9931-37328bc70df7",
   "metadata": {},
   "outputs": [],
   "source": [
    " # Given a string S, find the length of the longest substring without repeating characters:\n",
    "\n",
    "def longest_substring(s):\n",
    "    start = 0\n",
    "    max_len = 0\n",
    "    char_set = set()\n",
    "\n",
    "    for e in range (len(s)):\n",
    "        while s[e] in char_set:\n",
    "            char_set.remove(s[start])\n",
    "            start += 1\n",
    "\n",
    "        char_set.add(s[e])\n",
    "        max_len = max(max_len, e-start+1)\n",
    "\n",
    "    return max_len"
   ]
  },
  {
   "cell_type": "code",
   "execution_count": 9,
   "id": "4a833661-877f-4551-90cb-8399b1c0946b",
   "metadata": {},
   "outputs": [
    {
     "name": "stdout",
     "output_type": "stream",
     "text": [
      "3\n",
      "1\n",
      "3\n"
     ]
    }
   ],
   "source": [
    "print(longest_substring(\"abcabcbb\"))   \n",
    "print(longest_substring(\"bbbbb\"))      \n",
    "print(longest_substring(\"pwwkew\"))     "
   ]
  }
 ],
 "metadata": {
  "kernelspec": {
   "display_name": "Python [conda env:base] *",
   "language": "python",
   "name": "conda-base-py"
  },
  "language_info": {
   "codemirror_mode": {
    "name": "ipython",
    "version": 3
   },
   "file_extension": ".py",
   "mimetype": "text/x-python",
   "name": "python",
   "nbconvert_exporter": "python",
   "pygments_lexer": "ipython3",
   "version": "3.12.7"
  }
 },
 "nbformat": 4,
 "nbformat_minor": 5
}
