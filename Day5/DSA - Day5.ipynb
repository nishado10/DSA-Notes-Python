{
 "cells": [
  {
   "cell_type": "code",
   "execution_count": 1,
   "id": "c21a51ea-d561-4f05-ac2b-81c2294b8e92",
   "metadata": {},
   "outputs": [],
   "source": [
    "# Brute force: Print all sublists of array A\n",
    "\n",
    "def print_sublist(A):\n",
    "    N = len(A)\n",
    "    for s in range (N):\n",
    "        for e in range (s,N):\n",
    "            for k in range (s,e+1):\n",
    "                print(A[k], end =\" \")\n",
    "            print()"
   ]
  },
  {
   "cell_type": "code",
   "execution_count": 3,
   "id": "0c802ca2-a3b5-4bc6-954b-3ecbbcc05455",
   "metadata": {},
   "outputs": [
    {
     "name": "stdout",
     "output_type": "stream",
     "text": [
      "1 \n",
      "1 2 \n",
      "1 2 3 \n",
      "1 2 3 4 \n",
      "1 2 3 4 5 \n",
      "2 \n",
      "2 3 \n",
      "2 3 4 \n",
      "2 3 4 5 \n",
      "3 \n",
      "3 4 \n",
      "3 4 5 \n",
      "4 \n",
      "4 5 \n",
      "5 \n"
     ]
    }
   ],
   "source": [
    "A = [1,2,3,4,5]\n",
    "print_sublist(A)"
   ]
  },
  {
   "cell_type": "code",
   "execution_count": 5,
   "id": "fdf669d8-6e4d-4e16-a31b-fb749543d2bf",
   "metadata": {},
   "outputs": [],
   "source": [
    "# Optimization using Prefix Sum:\n",
    "\n",
    "def sum_psum_lists(A,N):\n",
    "    psum = [0] * N\n",
    "    psum [0] = A [0]\n",
    "    for i in range (1, N):\n",
    "        psum[i] = A[i] + psum[i-1]\n",
    "\n",
    "        total_sum = 0\n",
    "        for s in range(N):\n",
    "            for e in range(s,N):\n",
    "                if s == 0:\n",
    "                    sum = psum[e]\n",
    "                else:\n",
    "                    sum = psum[e] - psum[s-1]\n",
    "                total_sum += sum\n",
    "\n",
    "    return total_sum"
   ]
  },
  {
   "cell_type": "code",
   "execution_count": 7,
   "id": "103f2cc4-aaec-4a6b-a758-a534055e4ee7",
   "metadata": {},
   "outputs": [
    {
     "name": "stdout",
     "output_type": "stream",
     "text": [
      "20\n"
     ]
    }
   ],
   "source": [
    "A = [1, 2, 3]\n",
    "print(sum_psum_lists(A, len(A)))"
   ]
  },
  {
   "cell_type": "code",
   "execution_count": 9,
   "id": "37128937-f728-4b58-8a49-b96406f029f9",
   "metadata": {},
   "outputs": [],
   "source": [
    "# Optimization using Carryforward Technique : \n",
    "\n",
    "def sum_sublist(A,N):\n",
    "    total_sum = 0\n",
    "    for s in range (0, N):\n",
    "        cursum = 0\n",
    "        for e in range (s, N):\n",
    "            cursum += A[e]\n",
    "            total_sum += cursum\n",
    "    return total_sum"
   ]
  },
  {
   "cell_type": "code",
   "execution_count": 11,
   "id": "c2781c9b-ae4e-4edc-975f-98ac96a7da6d",
   "metadata": {},
   "outputs": [
    {
     "name": "stdout",
     "output_type": "stream",
     "text": [
      "20\n"
     ]
    }
   ],
   "source": [
    "A = [1, 2, 3]\n",
    "N = len(A)   # define N\n",
    "print(sum_sublist(A, N))"
   ]
  },
  {
   "cell_type": "code",
   "execution_count": 17,
   "id": "1a1b2768-6216-4001-93b5-9988e8e43bc4",
   "metadata": {},
   "outputs": [],
   "source": [
    "# Total sum of array : \n",
    "\n",
    "def sum_sublist(A,N):\n",
    "    total = 0\n",
    "    for i in range (0,N):\n",
    "        s = i+1\n",
    "        e = N-i\n",
    "        count = s*e\n",
    "        total += count * A[i]\n",
    "    return total"
   ]
  },
  {
   "cell_type": "code",
   "execution_count": 19,
   "id": "75746c9b-fa6b-467e-be29-004fb07b78b1",
   "metadata": {},
   "outputs": [
    {
     "name": "stdout",
     "output_type": "stream",
     "text": [
      "14\n"
     ]
    }
   ],
   "source": [
    "A = [2, -1, 4]\n",
    "N = len(A)   # define N\n",
    "print(sum_sublist(A, N))"
   ]
  },
  {
   "cell_type": "code",
   "execution_count": 21,
   "id": "8c985816-5dac-4e7c-bd53-4499aff8f49f",
   "metadata": {},
   "outputs": [],
   "source": [
    "# Brute force approach for max subarray sum \n",
    "\n",
    "def max_subarray_sum(A,N,k):\n",
    "    maxsum = 0\n",
    "    for i in range (N-k+1):\n",
    "        cursum = 0\n",
    "        for j in range (i,i+k):\n",
    "            cursum += A[j]\n",
    "        maxsum = max(maxsum,cursum)\n",
    "    return maxsum"
   ]
  },
  {
   "cell_type": "code",
   "execution_count": 23,
   "id": "7c3e234b-9e73-4fdc-9a77-f26e85bfedb3",
   "metadata": {},
   "outputs": [
    {
     "name": "stdout",
     "output_type": "stream",
     "text": [
      "9\n"
     ]
    }
   ],
   "source": [
    "A = [2, 1, 5, 1, 3, 2]\n",
    "N = len(A)\n",
    "k = 3\n",
    "print(max_subarray_sum(A, N, k))"
   ]
  },
  {
   "cell_type": "code",
   "execution_count": 25,
   "id": "dc4d53f9-69f7-4128-94c5-2b83e9276044",
   "metadata": {},
   "outputs": [],
   "source": [
    "# Optimized approach: Sliding Window concept\n",
    "\n",
    "def max_subarray_sum(A,N,k):\n",
    "    sum = 0\n",
    "\n",
    "    # Calculate the sum of the first window\n",
    "    for i in range (0,k):\n",
    "        sum += A[i]\n",
    "\n",
    "    ans = sum\n",
    "\n",
    "    # Next window\n",
    "    s = 1\n",
    "    e = k\n",
    "\n",
    "    # Slide the window \n",
    "    while (e < N):\n",
    "        sum = sum - A[s-1] + A[e]\n",
    "        ans = max(ans,sum)\n",
    "        s += 1\n",
    "        e += 1\n",
    "    return ans"
   ]
  },
  {
   "cell_type": "code",
   "execution_count": 27,
   "id": "cb33b494-74ad-4e34-a6e7-cc1bc38f48fc",
   "metadata": {},
   "outputs": [
    {
     "name": "stdout",
     "output_type": "stream",
     "text": [
      "9\n"
     ]
    }
   ],
   "source": [
    "A = [2, 1, 5, 1, 3, 2]\n",
    "N = len(A)\n",
    "k = 3\n",
    "print(max_subarray_sum(A, N, k))"
   ]
  }
 ],
 "metadata": {
  "kernelspec": {
   "display_name": "Python [conda env:base] *",
   "language": "python",
   "name": "conda-base-py"
  },
  "language_info": {
   "codemirror_mode": {
    "name": "ipython",
    "version": 3
   },
   "file_extension": ".py",
   "mimetype": "text/x-python",
   "name": "python",
   "nbconvert_exporter": "python",
   "pygments_lexer": "ipython3",
   "version": "3.12.7"
  }
 },
 "nbformat": 4,
 "nbformat_minor": 5
}
