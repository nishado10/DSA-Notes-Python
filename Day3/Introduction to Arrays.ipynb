{
 "cells": [
  {
   "cell_type": "code",
   "execution_count": 13,
   "id": "8d748a7b-67a1-44b7-b470-598852fc9943",
   "metadata": {},
   "outputs": [],
   "source": [
    "# Reverse the Array : (Reverses the array 'arr' of length 'N' in place.)"
   ]
  },
  {
   "cell_type": "code",
   "execution_count": 15,
   "id": "0e26d839-4615-4ef9-80ef-2f5cb6e1b2c3",
   "metadata": {},
   "outputs": [],
   "source": [
    "def reverse(arr,N):\n",
    "    s = 0     #start pointer\n",
    "    e = N-1   #end pointer\n",
    "    while (s<e):\n",
    "        arr[s],arr[e] = arr[e],arr[s]\n",
    "        s += 1\n",
    "        e -= 1\n",
    "    return arr"
   ]
  },
  {
   "cell_type": "code",
   "execution_count": 17,
   "id": "beaf20c7-9e21-4336-a7fa-97f3049e308d",
   "metadata": {},
   "outputs": [
    {
     "name": "stdout",
     "output_type": "stream",
     "text": [
      "[5, 4, 3, 2, 1]\n"
     ]
    }
   ],
   "source": [
    "arr = [1, 2, 3, 4, 5]\n",
    "reverse(arr, len(arr))\n",
    "print(arr)  # Output: [5, 4, 3, 2, 1]\n"
   ]
  },
  {
   "cell_type": "code",
   "execution_count": 31,
   "id": "18855398-e51a-49f7-a4b6-3e2d31750079",
   "metadata": {},
   "outputs": [],
   "source": [
    "# Reverse the Array in a specific range"
   ]
  },
  {
   "cell_type": "code",
   "execution_count": 27,
   "id": "d9a7ce9c-e406-4e7c-80c7-73d7206c2ca1",
   "metadata": {},
   "outputs": [],
   "source": [
    "def reverse(arr,l,r):\n",
    "    s = l\n",
    "    e = r\n",
    "    while (s < e):\n",
    "        arr[s],arr[e] = arr[e],arr[s]\n",
    "        s += 1\n",
    "        e -= 1\n",
    "    return arr"
   ]
  },
  {
   "cell_type": "code",
   "execution_count": 29,
   "id": "6db203e6-4e74-4394-a593-51f8a6d47a58",
   "metadata": {},
   "outputs": [
    {
     "name": "stdout",
     "output_type": "stream",
     "text": [
      "[1, 2, 6, 5, 4, 3, 7]\n"
     ]
    }
   ],
   "source": [
    "arr = [1, 2, 3, 4, 5, 6, 7]\n",
    "reverse(arr, 2, 5)\n",
    "print(arr)  # Output: [1, 2, 6, 5, 4, 3, 7]\n"
   ]
  },
  {
   "cell_type": "code",
   "execution_count": null,
   "id": "d59a72ef-23cd-4db0-aa0a-d88bae7b94af",
   "metadata": {},
   "outputs": [],
   "source": [
    "# Right Rotate by k positions"
   ]
  },
  {
   "cell_type": "code",
   "execution_count": 6,
   "id": "f749d228-7da2-49a1-b122-8fed7bf59099",
   "metadata": {},
   "outputs": [],
   "source": [
    "#Brute force approach\n",
    "\n",
    "def rotate(arr,N,k):\n",
    "    for i in range (k):\n",
    "        temp = arr[N-1]\n",
    "        for j in range(N-1,0,-1):\n",
    "            arr[j] = arr[j-1]\n",
    "        arr[0] = temp"
   ]
  },
  {
   "cell_type": "code",
   "execution_count": 4,
   "id": "24dcf70d-8b79-4621-90e9-ea564068dbcb",
   "metadata": {},
   "outputs": [
    {
     "name": "stdout",
     "output_type": "stream",
     "text": [
      "[4, 5, 1, 2, 3]\n"
     ]
    }
   ],
   "source": [
    "arr = [1, 2, 3, 4, 5]\n",
    "rotate(arr, len(arr), 2)\n",
    "print(arr)  # Output: [4, 5, 1, 2, 3]\n"
   ]
  },
  {
   "cell_type": "code",
   "execution_count": 10,
   "id": "8f819123-bdf7-457b-b0e0-aa6f48410f89",
   "metadata": {},
   "outputs": [],
   "source": [
    "#Optimized Approach\n",
    "\n",
    "def reverse(arr,l,r):\n",
    "    s = l\n",
    "    e = r\n",
    "    while (s<e):\n",
    "        arr[s],arr[e] = arr[e],arr[s]\n",
    "        s += 1\n",
    "        e -= 1\n",
    "\n",
    "def rotate(arr,N,k):\n",
    "    N = len(arr)\n",
    "    k = k % N\n",
    "    \n",
    "    #Reverse whole\n",
    "    reverse(arr,0,N-1)\n",
    "\n",
    "    #Reverse Part1\n",
    "    reverse(arr,0,k-1)\n",
    "\n",
    "    #Reverse Part2\n",
    "    reverse(arr,k,N-1)"
   ]
  },
  {
   "cell_type": "code",
   "execution_count": null,
   "id": "d2c60509-2bd2-4d9d-8d66-1d249b49c4dd",
   "metadata": {},
   "outputs": [],
   "source": []
  }
 ],
 "metadata": {
  "kernelspec": {
   "display_name": "Python [conda env:base] *",
   "language": "python",
   "name": "conda-base-py"
  },
  "language_info": {
   "codemirror_mode": {
    "name": "ipython",
    "version": 3
   },
   "file_extension": ".py",
   "mimetype": "text/x-python",
   "name": "python",
   "nbconvert_exporter": "python",
   "pygments_lexer": "ipython3",
   "version": "3.12.7"
  }
 },
 "nbformat": 4,
 "nbformat_minor": 5
}
