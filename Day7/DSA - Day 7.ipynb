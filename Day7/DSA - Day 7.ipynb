{
 "cells": [
  {
   "cell_type": "code",
   "execution_count": 1,
   "id": "0821d765-7d96-4039-b3c2-62380599af00",
   "metadata": {},
   "outputs": [],
   "source": [
    "def selectionsort (arr,size):\n",
    "    for i in range (size-1):\n",
    "        mindex = i\n",
    "        for j in range (i+1,size):\n",
    "            if (arr[j] < arr[mindex]):\n",
    "                mindex = j\n",
    "\n",
    "        temp = arr[mindex]\n",
    "        arr[mindex] = arr[i]\n",
    "        arr[i] = temp"
   ]
  },
  {
   "cell_type": "code",
   "execution_count": 3,
   "id": "800aec07-af41-4d88-8daa-698eb71ae794",
   "metadata": {},
   "outputs": [],
   "source": [
    "def insertionsort (arr,n):\n",
    "    for i in range (1,n):\n",
    "        curele = arr[i]\n",
    "        j = i-1\n",
    "        while (j >= 0 and arr[j] > curele):\n",
    "            arr[j+1] = arr[j]\n",
    "            j = j-1\n",
    "\n",
    "        arr[j+1] = curele"
   ]
  },
  {
   "cell_type": "code",
   "execution_count": 18,
   "id": "fddd2d14-7bb2-4935-b599-acf9ef20dd40",
   "metadata": {},
   "outputs": [],
   "source": [
    "#problem 1\n",
    "\n",
    "# Given an integer array A, find if an integer p exists in the array such that the number of integers greater than p in the array equals p.\n",
    "\n",
    "# Problem Constraints : 1 <= |A| <= 2*105, -108 <= A[i] <= 108"
   ]
  },
  {
   "cell_type": "code",
   "execution_count": 30,
   "id": "2d5444c4-3944-47b8-87eb-0ee27ea565cf",
   "metadata": {},
   "outputs": [],
   "source": [
    "# Solution:\n",
    "\n",
    "def solve(self, A):\n",
    "    A.sort()              \n",
    "    N = len(A)             \n",
    "\n",
    "    for i in range(N):     \n",
    "        if A[i] == N - i - 1:        \n",
    "            if i == N-1 or A[i] != A[i+1]:   \n",
    "                return 1               \n",
    "\n",
    "    return -1             "
   ]
  },
  {
   "cell_type": "code",
   "execution_count": 20,
   "id": "b778638f-33dd-41d5-b151-b88683f39a66",
   "metadata": {},
   "outputs": [],
   "source": [
    "# Problem 2\n",
    "\n",
    "# Given an integer array A of size N. Return 1 if the array can be arranged to form an arithmetic progression, otherwise return 0.\n",
    "# A sequence of numbers is called an arithmetic progression if the difference between any two consecutive elements is the same."
   ]
  },
  {
   "cell_type": "code",
   "execution_count": 24,
   "id": "f15fd462-ec43-47e3-b4b2-3a2cd8bb9dcc",
   "metadata": {},
   "outputs": [],
   "source": [
    "def solve(self, A):\n",
    "        A.sort()\n",
    "        N = len(A)\n",
    "        diff = A[1] - A[0]\n",
    "\n",
    "        for i in range(2, N):\n",
    "            if A[i] - A[i-1] != diff:\n",
    "                return 0\n",
    "\n",
    "        return 1"
   ]
  },
  {
   "cell_type": "code",
   "execution_count": 26,
   "id": "e80dfe28-047a-4b8e-bfc0-26c4f8db0af8",
   "metadata": {},
   "outputs": [],
   "source": [
    "# Problem 3\n",
    "\n",
    "# You are given a N X N integer matrix. You have to find the sum of all the minor diagonal elements of A.\n",
    "# Minor diagonal of a M X M matrix A is a collection of elements A[i, j] such that i + j = M + 1 (where i, j are 1-based)."
   ]
  },
  {
   "cell_type": "code",
   "execution_count": 28,
   "id": "53a72209-3ca0-4000-886c-07549a947ee1",
   "metadata": {},
   "outputs": [],
   "source": [
    "def solve(self, A):\n",
    "        N = len(A)\n",
    "        i = 0\n",
    "        j = N-1\n",
    "        sum = 0\n",
    "\n",
    "        while i<N :\n",
    "            sum += A[i][j]\n",
    "            i += 1\n",
    "            j -= 1\n",
    "\n",
    "        return sum"
   ]
  },
  {
   "cell_type": "code",
   "execution_count": 40,
   "id": "e4b9b7ae-f39b-4f54-8902-eed2daf5f6aa",
   "metadata": {},
   "outputs": [],
   "source": [
    "# Toggle values of String: Hello -> hELLo\n",
    "\n",
    "def solve(A):\n",
    "    N = len(A)\n",
    "    result = []\n",
    "    for i in range (N):\n",
    "        if 'a' <= A[i] <= 'z':\n",
    "            result.append(chr(ord(A[i])-32))\n",
    "        else:\n",
    "            result.append(chr(ord(A[i])+32))\n",
    "\n",
    "    return \" \".join(result)"
   ]
  },
  {
   "cell_type": "code",
   "execution_count": 42,
   "id": "19366338-066e-4b2f-8798-d7da7449b55c",
   "metadata": {},
   "outputs": [
    {
     "name": "stdout",
     "output_type": "stream",
     "text": [
      "h E L L O\n"
     ]
    }
   ],
   "source": [
    "print(solve(\"Hello\"))"
   ]
  },
  {
   "cell_type": "code",
   "execution_count": 4,
   "id": "d3bfb724-696d-42b0-ba32-31c340999fd4",
   "metadata": {},
   "outputs": [],
   "source": [
    "# Check whether the substring is a Palindrome or not\n",
    "\n",
    "def palindrome(s, start, end):\n",
    "    # end is inclusive index here\n",
    "    while start < end:\n",
    "        if s[start] != s[end]:\n",
    "            return False\n",
    "        start += 1\n",
    "        end -= 1\n",
    "    return True"
   ]
  },
  {
   "cell_type": "code",
   "execution_count": 8,
   "id": "ffb78ebc-d0fb-430e-b800-7e84e7081995",
   "metadata": {},
   "outputs": [
    {
     "name": "stdout",
     "output_type": "stream",
     "text": [
      "True\n",
      "True\n",
      "False\n"
     ]
    }
   ],
   "source": [
    "s = \"abacaba\"\n",
    "print(palindrome(s, 0, 6))  \n",
    "print(palindrome(s, 0, 2)) \n",
    "print(palindrome(s, 1, 3))  "
   ]
  },
  {
   "cell_type": "code",
   "execution_count": null,
   "id": "2ff9142b-7042-48c7-b850-f4873613707e",
   "metadata": {},
   "outputs": [],
   "source": [
    "# Longest Palindrome \n",
    "\n",
    "def longestpalindrome(s): \n",
    "    max_len = 0 \n",
    "    n = len(s) \n",
    "    for c in range (n): \n",
    "        p1 = p2 = c \n",
    "        while p1 >= 0 and p2 < n : \n",
    "            if s[p1] != s[p2]: \n",
    "                break \n",
    "            p1 -= 1 \n",
    "            p2 += 1 \n",
    "            \n",
    "        new_len = p2-p1-1 \n",
    "        max_len = max(max_len,new_len) \n",
    "        \n",
    "        p1 = c \n",
    "        p2 = c+1 \n",
    "        while p1 >=0 and p2 < n: \n",
    "            if s[p1] != s[p2]: \n",
    "                break \n",
    "            p1 -= 1 \n",
    "            p2 += 1 \n",
    "                \n",
    "            new_len = p2-p1-1 \n",
    "            max_len = max(max_len,new_len) \n",
    "            \n",
    "    return max_len"
   ]
  },
  {
   "cell_type": "code",
   "execution_count": null,
   "id": "11c93dde-9a94-4c4c-b205-90a75fe71786",
   "metadata": {},
   "outputs": [],
   "source": [
    "print(longestpalindrome(\"babad\"))  # 3 (\"bab\" or \"aba\")\n",
    "print(longestpalindrome(\"cbbd\"))   # 2 (\"bb\")\n",
    "print(longestpalindrome(\"aaaa\"))   # 4 (\"aaaa\")\n",
    "print(longestpalindrome(\"abba\"))   # 4 (\"abba\")"
   ]
  },
  {
   "cell_type": "code",
   "execution_count": null,
   "id": "b208ede9-6636-4493-9adb-54464e937f5c",
   "metadata": {},
   "outputs": [],
   "source": []
  }
 ],
 "metadata": {
  "kernelspec": {
   "display_name": "Python [conda env:base] *",
   "language": "python",
   "name": "conda-base-py"
  },
  "language_info": {
   "codemirror_mode": {
    "name": "ipython",
    "version": 3
   },
   "file_extension": ".py",
   "mimetype": "text/x-python",
   "name": "python",
   "nbconvert_exporter": "python",
   "pygments_lexer": "ipython3",
   "version": "3.12.7"
  }
 },
 "nbformat": 4,
 "nbformat_minor": 5
}
