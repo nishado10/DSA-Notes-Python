{
 "cells": [
  {
   "cell_type": "code",
   "execution_count": 13,
   "id": "647f6a66-4113-4530-9678-9123e2352db5",
   "metadata": {},
   "outputs": [],
   "source": [
    "# Calculating Sum of integers according to Query list\n",
    "\n",
    "def printsum(li,q):\n",
    "    N = len(q)\n",
    "    for i in range(N):\n",
    "        l = q[i][0]\n",
    "        r = q[i][1]\n",
    "        sum = 0\n",
    "        \n",
    "        for j in range(l,r+1):\n",
    "            sum += li[j]\n",
    "        print (sum)"
   ]
  },
  {
   "cell_type": "code",
   "execution_count": 15,
   "id": "e9908489-39de-47d1-87ee-992da490cf73",
   "metadata": {},
   "outputs": [
    {
     "name": "stdout",
     "output_type": "stream",
     "text": [
      "9\n",
      "6\n"
     ]
    }
   ],
   "source": [
    "li = [1, 2, 3, 4, 5]\n",
    "q = [[1, 3], [0, 2]]\n",
    "\n",
    "printsum(li, q)"
   ]
  },
  {
   "cell_type": "code",
   "execution_count": 25,
   "id": "abd2973d-96e3-474f-bce3-88570c06ceec",
   "metadata": {},
   "outputs": [],
   "source": [
    "# Psum\n",
    "\n",
    "def prefixsum(arr):\n",
    "    N = len(arr)\n",
    "    psum = [0]*N\n",
    "    psum[0] = arr[0]\n",
    "    for i in range(1,N):\n",
    "        psum[i] = arr[i] + psum[i-1]\n",
    "    return psum"
   ]
  },
  {
   "cell_type": "code",
   "execution_count": 29,
   "id": "1ef58511-cef9-45a8-9b2e-21dbe3a435fb",
   "metadata": {},
   "outputs": [],
   "source": [
    "# Calculating Sum of integers according to Query list (Optimization)\n",
    "\n",
    "def query_sum(arr, queries):\n",
    "    N = len(arr)\n",
    "    \n",
    "    # Step 1: Build prefix sum array\n",
    "    psum = [0] * N\n",
    "    psum[0] = arr[0]\n",
    "    for i in range(1, N):\n",
    "        psum[i] = arr[i] + psum[i - 1]\n",
    "\n",
    "    # Step 2: Process each query\n",
    "    for l, r in queries:\n",
    "        if l == 0:\n",
    "            total = psum[r]\n",
    "        else:\n",
    "            total = psum[r] - psum[l - 1]\n",
    "        print(total)"
   ]
  },
  {
   "cell_type": "code",
   "execution_count": 31,
   "id": "26dc5868-d11e-4d1f-8bd0-ac2ea868eb0b",
   "metadata": {},
   "outputs": [
    {
     "name": "stdout",
     "output_type": "stream",
     "text": [
      "6\n",
      "9\n",
      "12\n"
     ]
    }
   ],
   "source": [
    "arr = [1, 2, 3, 4, 5]\n",
    "queries = [(0, 2), (1, 3), (2, 4)]\n",
    "\n",
    "query_sum(arr, queries)"
   ]
  },
  {
   "cell_type": "code",
   "execution_count": 37,
   "id": "745a9008-6d3a-47c8-ba17-04369549be4b",
   "metadata": {},
   "outputs": [],
   "source": [
    "# Calculating Sum of even indexes according to Query list (Optimization)\n",
    "\n",
    "def query_sum(arr, queries):\n",
    "    N = len(arr)\n",
    "    \n",
    "    # Step 1: Build prefix sum for even indices\n",
    "    psum = [0] * N\n",
    "    psum[0] = arr[0]  # 0 is even\n",
    "    for i in range(1, N):\n",
    "        if i % 2 == 0:\n",
    "            psum[i] = arr[i] + psum[i - 1]\n",
    "        else:\n",
    "            psum[i] = psum[i - 1]\n",
    "\n",
    "    # Step 2: Process each query\n",
    "    for l, r in queries:\n",
    "        if l == 0:\n",
    "            total = psum[r]\n",
    "        else:\n",
    "            total = psum[r] - psum[l - 1]\n",
    "        print(total)"
   ]
  },
  {
   "cell_type": "code",
   "execution_count": 59,
   "id": "ee4a0840-4996-4c7e-9eac-a5cb169c446e",
   "metadata": {},
   "outputs": [
    {
     "name": "stdout",
     "output_type": "stream",
     "text": [
      "9\n",
      "8\n",
      "3\n"
     ]
    }
   ],
   "source": [
    "arr = [1, 2, 3, 4, 5, 6]\n",
    "queries = [(0, 5), (2, 4), (1, 3)]\n",
    "\n",
    "query_sum(arr, queries)"
   ]
  },
  {
   "cell_type": "code",
   "execution_count": 75,
   "id": "03a37fe9-2f8f-4e09-bcd8-0841751a7a66",
   "metadata": {},
   "outputs": [],
   "source": [
    "def countofpairsag(s):\n",
    "    N = len(s)\n",
    "    countofg , countofpairs = 0,0\n",
    "    for i in range(N-1,1,-1):\n",
    "        if s[i] == 'g':\n",
    "            countofg += 1\n",
    "        elif s[i] == 'a':\n",
    "            countofpairs += countofg\n",
    "\n",
    "    return countofpairs"
   ]
  },
  {
   "cell_type": "code",
   "execution_count": 73,
   "id": "48b8f7b2-fabb-4711-9bf8-eabd81a5980f",
   "metadata": {},
   "outputs": [
    {
     "name": "stdout",
     "output_type": "stream",
     "text": [
      "5\n"
     ]
    }
   ],
   "source": [
    "s = \"abgagbg\"\n",
    "print(countofpairsag(s))"
   ]
  }
 ],
 "metadata": {
  "kernelspec": {
   "display_name": "Python [conda env:base] *",
   "language": "python",
   "name": "conda-base-py"
  },
  "language_info": {
   "codemirror_mode": {
    "name": "ipython",
    "version": 3
   },
   "file_extension": ".py",
   "mimetype": "text/x-python",
   "name": "python",
   "nbconvert_exporter": "python",
   "pygments_lexer": "ipython3",
   "version": "3.12.7"
  }
 },
 "nbformat": 4,
 "nbformat_minor": 5
}
