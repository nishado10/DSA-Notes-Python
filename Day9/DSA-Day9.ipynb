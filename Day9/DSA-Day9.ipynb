{
 "cells": [
  {
   "cell_type": "code",
   "execution_count": 1,
   "id": "742ffbdd-2144-49c7-b70b-565cae394f88",
   "metadata": {},
   "outputs": [],
   "source": [
    "# Recursion\n",
    "\n",
    "# Addition of n numbers\n",
    "def sum(N):\n",
    "    if N == 1:\n",
    "        return 1\n",
    "    return N+sum(N-1)"
   ]
  },
  {
   "cell_type": "code",
   "execution_count": 3,
   "id": "e71b2728-cd16-4cf6-944f-c4c669e0a3d5",
   "metadata": {},
   "outputs": [
    {
     "data": {
      "text/plain": [
       "15"
      ]
     },
     "execution_count": 3,
     "metadata": {},
     "output_type": "execute_result"
    }
   ],
   "source": [
    "sum(5)"
   ]
  },
  {
   "cell_type": "code",
   "execution_count": 5,
   "id": "460545b4-9570-47db-9948-068d8766d7b3",
   "metadata": {},
   "outputs": [],
   "source": [
    "# Fibonacci Series\n",
    "def fact(N):\n",
    "    if N == 0 or N == 1:\n",
    "        return 1\n",
    "    return N * fact(N-1)"
   ]
  },
  {
   "cell_type": "code",
   "execution_count": 7,
   "id": "46205dec-452f-4b0e-a4ce-ba67b274f4f4",
   "metadata": {},
   "outputs": [
    {
     "data": {
      "text/plain": [
       "24"
      ]
     },
     "execution_count": 7,
     "metadata": {},
     "output_type": "execute_result"
    }
   ],
   "source": [
    "fact(4)"
   ]
  },
  {
   "cell_type": "code",
   "execution_count": 9,
   "id": "da56bfe9-88b8-4c07-a0e1-3430229e00bf",
   "metadata": {},
   "outputs": [],
   "source": [
    "def printinc(N):\n",
    "    if N == 1:\n",
    "        print(N,end=\" \")\n",
    "        return\n",
    "    printinc(N-1)\n",
    "    print(N,end=\" \")"
   ]
  },
  {
   "cell_type": "code",
   "execution_count": 11,
   "id": "c3545391-975e-48f4-a9e0-36e9ae8b3c68",
   "metadata": {},
   "outputs": [
    {
     "name": "stdout",
     "output_type": "stream",
     "text": [
      "1 2 3 4 5 "
     ]
    }
   ],
   "source": [
    "printinc(5)"
   ]
  },
  {
   "cell_type": "code",
   "execution_count": 13,
   "id": "b90e03f8-e745-4513-9546-c2e32db5d97b",
   "metadata": {},
   "outputs": [],
   "source": [
    "def printdec(N):\n",
    "    if N == 1:\n",
    "        print(N,end=\" \")\n",
    "        return\n",
    "\n",
    "    print(N,end=\" \")\n",
    "    printdec(N-1)"
   ]
  },
  {
   "cell_type": "code",
   "execution_count": 15,
   "id": "e8520a46-6af1-46e0-b116-5f4baa019e17",
   "metadata": {},
   "outputs": [
    {
     "name": "stdout",
     "output_type": "stream",
     "text": [
      "5 4 3 2 1 "
     ]
    }
   ],
   "source": [
    "printdec(5)"
   ]
  },
  {
   "cell_type": "code",
   "execution_count": 17,
   "id": "8e47b044-adb0-45a7-861f-2a4fd36f3094",
   "metadata": {},
   "outputs": [],
   "source": [
    "# Fibonacci Series\n",
    "\n",
    "def fib(N):\n",
    "    if N == 0 or N == 1:\n",
    "        return N\n",
    "    return fib(N-1) + fib(N-2)"
   ]
  },
  {
   "cell_type": "code",
   "execution_count": 21,
   "id": "ddf24f35-fc03-4853-9f71-af279584d45c",
   "metadata": {},
   "outputs": [
    {
     "name": "stdout",
     "output_type": "stream",
     "text": [
      "5\n",
      "55\n"
     ]
    }
   ],
   "source": [
    "print(fib(5))  \n",
    "print(fib(10)) "
   ]
  },
  {
   "cell_type": "code",
   "execution_count": null,
   "id": "ca62747d-4203-42eb-a60e-59ce69d73444",
   "metadata": {},
   "outputs": [],
   "source": []
  }
 ],
 "metadata": {
  "kernelspec": {
   "display_name": "Python [conda env:base] *",
   "language": "python",
   "name": "conda-base-py"
  },
  "language_info": {
   "codemirror_mode": {
    "name": "ipython",
    "version": 3
   },
   "file_extension": ".py",
   "mimetype": "text/x-python",
   "name": "python",
   "nbconvert_exporter": "python",
   "pygments_lexer": "ipython3",
   "version": "3.12.7"
  }
 },
 "nbformat": 4,
 "nbformat_minor": 5
}
